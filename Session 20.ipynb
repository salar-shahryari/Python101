{
 "cells": [
  {
   "cell_type": "code",
   "execution_count": 3,
   "metadata": {},
   "outputs": [],
   "source": [
    "import torch\n",
    "import torch.nn as nn\n",
    "import torch.nn.functional as F\n",
    "from torch.utils.data import Dataset, DataLoader\n",
    "from sklearn.model_selection import train_test_split\n",
    "\n",
    "import pandas as pd\n",
    "import matplotlib.pyplot as plt"
   ]
  },
  {
   "cell_type": "code",
   "execution_count": 4,
   "metadata": {},
   "outputs": [
    {
     "data": {
      "text/html": [
       "<div>\n",
       "<style scoped>\n",
       "    .dataframe tbody tr th:only-of-type {\n",
       "        vertical-align: middle;\n",
       "    }\n",
       "\n",
       "    .dataframe tbody tr th {\n",
       "        vertical-align: top;\n",
       "    }\n",
       "\n",
       "    .dataframe thead th {\n",
       "        text-align: right;\n",
       "    }\n",
       "</style>\n",
       "<table border=\"1\" class=\"dataframe\">\n",
       "  <thead>\n",
       "    <tr style=\"text-align: right;\">\n",
       "      <th></th>\n",
       "      <th>sepal length (cm)</th>\n",
       "      <th>sepal width (cm)</th>\n",
       "      <th>petal length (cm)</th>\n",
       "      <th>petal width (cm)</th>\n",
       "      <th>target</th>\n",
       "    </tr>\n",
       "  </thead>\n",
       "  <tbody>\n",
       "    <tr>\n",
       "      <th>0</th>\n",
       "      <td>5.1</td>\n",
       "      <td>3.5</td>\n",
       "      <td>1.4</td>\n",
       "      <td>0.2</td>\n",
       "      <td>0.0</td>\n",
       "    </tr>\n",
       "    <tr>\n",
       "      <th>1</th>\n",
       "      <td>4.9</td>\n",
       "      <td>3.0</td>\n",
       "      <td>1.4</td>\n",
       "      <td>0.2</td>\n",
       "      <td>0.0</td>\n",
       "    </tr>\n",
       "    <tr>\n",
       "      <th>2</th>\n",
       "      <td>4.7</td>\n",
       "      <td>3.2</td>\n",
       "      <td>1.3</td>\n",
       "      <td>0.2</td>\n",
       "      <td>0.0</td>\n",
       "    </tr>\n",
       "    <tr>\n",
       "      <th>3</th>\n",
       "      <td>4.6</td>\n",
       "      <td>3.1</td>\n",
       "      <td>1.5</td>\n",
       "      <td>0.2</td>\n",
       "      <td>0.0</td>\n",
       "    </tr>\n",
       "    <tr>\n",
       "      <th>4</th>\n",
       "      <td>5.0</td>\n",
       "      <td>3.6</td>\n",
       "      <td>1.4</td>\n",
       "      <td>0.2</td>\n",
       "      <td>0.0</td>\n",
       "    </tr>\n",
       "  </tbody>\n",
       "</table>\n",
       "</div>"
      ],
      "text/plain": [
       "   sepal length (cm)  sepal width (cm)  petal length (cm)  petal width (cm)  \\\n",
       "0                5.1               3.5                1.4               0.2   \n",
       "1                4.9               3.0                1.4               0.2   \n",
       "2                4.7               3.2                1.3               0.2   \n",
       "3                4.6               3.1                1.5               0.2   \n",
       "4                5.0               3.6                1.4               0.2   \n",
       "\n",
       "   target  \n",
       "0     0.0  \n",
       "1     0.0  \n",
       "2     0.0  \n",
       "3     0.0  \n",
       "4     0.0  "
      ]
     },
     "execution_count": 4,
     "metadata": {},
     "output_type": "execute_result"
    }
   ],
   "source": [
    "df = pd.read_csv(r\"Data\\iris.csv\")\n",
    "df.head()"
   ]
  },
  {
   "cell_type": "code",
   "execution_count": 5,
   "metadata": {},
   "outputs": [
    {
     "data": {
      "text/plain": [
       "150"
      ]
     },
     "execution_count": 5,
     "metadata": {},
     "output_type": "execute_result"
    }
   ],
   "source": [
    "len(df)"
   ]
  },
  {
   "cell_type": "code",
   "execution_count": 6,
   "metadata": {},
   "outputs": [
    {
     "data": {
      "image/png": "[encoded data removed]",
      "text/plain": [
       "<Figure size 720x504 with 4 Axes>"
      ]
     },
     "metadata": {
      "needs_background": "light"
     },
     "output_type": "display_data"
    }
   ],
   "source": [
    "fig, axes = plt.subplots(nrows=2, ncols=2, figsize=(10,7))\n",
    "fig.tight_layout()\n",
    "\n",
    "plots = [(0,1),(2,3),(0,2),(1,3)]\n",
    "colors = ['b', 'r', 'g']\n",
    "labels = ['Iris setosa','Iris virginica','Iris versicolor']\n",
    "\n",
    "for i, ax in enumerate(axes.flat):\n",
    "    for j in range(3):\n",
    "        x = df.columns[plots[i][0]]\n",
    "        y = df.columns[plots[i][1]]\n",
    "        ax.scatter(df[df['target']==j][x], df[df['target']==j][y], color=colors[j])\n",
    "        ax.set(xlabel=x, ylabel=y)\n",
    "\n",
    "fig.legend(labels=labels, loc=3, bbox_to_anchor=(1.0,0.85))\n",
    "plt.show()"
   ]
  },
  {
   "cell_type": "code",
   "execution_count": 7,
   "metadata": {},
   "outputs": [],
   "source": [
    "class Model(nn.Module):\n",
    "    def __init__(self, in_features, h1, h2, out_features):\n",
    "        super().__init__()\n",
    "        self.Linear1 = nn.Linear(in_features, h1)\n",
    "        self.Linear2 = nn.Linear(h1, h2)\n",
    "        self.Linear3 = nn.Linear(h2, out_features)\n",
    "\n",
    "    def forward(self, x):\n",
    "        x = F.relu(self.Linear1(x))\n",
    "        x = F.relu(self.Linear2(x))\n",
    "        x = self.Linear3(x)\n",
    "        return x     "
   ]
  },
  {
   "cell_type": "code",
   "execution_count": 9,
   "metadata": {},
   "outputs": [],
   "source": [
    "torch.manual_seed(32)\n",
    "model = Model(4, 8, 9, 3)"
   ]
  },
  {
   "cell_type": "code",
   "execution_count": 13,
   "metadata": {},
   "outputs": [],
   "source": [
    "X = df.drop('target', axis=1).values"
   ]
  },
  {
   "cell_type": "code",
   "execution_count": 18,
   "metadata": {},
   "outputs": [],
   "source": [
    "y = df['target'].values"
   ]
  },
  {
   "cell_type": "code",
   "execution_count": 19,
   "metadata": {},
   "outputs": [],
   "source": [
    "X_train, X_test, y_train, y_test = train_test_split(X, y, test_size=0.2, random_state=33)"
   ]
  },
  {
   "cell_type": "code",
   "execution_count": 35,
   "metadata": {},
   "outputs": [],
   "source": [
    "X_train = torch.FloatTensor(X_train)\n",
    "X_test = torch.FloatTensor(X_test)\n",
    "y_train = torch.LongTensor(y_train)\n",
    "y_test = torch.LongTensor(y_test)"
   ]
  },
  {
   "cell_type": "code",
   "execution_count": 29,
   "metadata": {},
   "outputs": [],
   "source": [
    "criterion = nn.CrossEntropyLoss()\n",
    "optimizer = torch.optim.Adam(model.parameters(), lr=0.01)"
   ]
  },
  {
   "cell_type": "code",
   "execution_count": 30,
   "metadata": {},
   "outputs": [
    {
     "name": "stdout",
     "output_type": "stream",
     "text": [
      "epoch:  1, loss: 1.15071154\n",
      "epoch:  2, loss: 1.11666143\n",
      "epoch:  3, loss: 1.08740425\n",
      "epoch:  4, loss: 1.06418836\n",
      "epoch:  5, loss: 1.04322541\n",
      "epoch:  6, loss: 1.02363551\n",
      "epoch:  7, loss: 1.00516391\n",
      "epoch:  8, loss: 0.98896617\n",
      "epoch:  9, loss: 0.97385150\n",
      "epoch: 10, loss: 0.95661831\n",
      "epoch: 11, loss: 0.93773156\n",
      "epoch: 12, loss: 0.91846561\n",
      "epoch: 13, loss: 0.90035421\n",
      "epoch: 14, loss: 0.88448417\n",
      "epoch: 15, loss: 0.87061608\n",
      "epoch: 16, loss: 0.85550755\n",
      "epoch: 17, loss: 0.83894199\n",
      "epoch: 18, loss: 0.82219994\n",
      "epoch: 19, loss: 0.80639350\n",
      "epoch: 20, loss: 0.79237300\n",
      "epoch: 21, loss: 0.77982575\n",
      "epoch: 22, loss: 0.76790619\n",
      "epoch: 23, loss: 0.75586647\n",
      "epoch: 24, loss: 0.74297965\n",
      "epoch: 25, loss: 0.72793740\n",
      "epoch: 26, loss: 0.71124804\n",
      "epoch: 27, loss: 0.69410664\n",
      "epoch: 28, loss: 0.67597127\n",
      "epoch: 29, loss: 0.65660751\n",
      "epoch: 30, loss: 0.63202900\n",
      "epoch: 31, loss: 0.60994011\n",
      "epoch: 32, loss: 0.58970833\n",
      "epoch: 33, loss: 0.56900311\n",
      "epoch: 34, loss: 0.54688853\n",
      "epoch: 35, loss: 0.52373332\n",
      "epoch: 36, loss: 0.50028217\n",
      "epoch: 37, loss: 0.47762832\n",
      "epoch: 38, loss: 0.45650026\n",
      "epoch: 39, loss: 0.43710369\n",
      "epoch: 40, loss: 0.41852954\n",
      "epoch: 41, loss: 0.40079927\n",
      "epoch: 42, loss: 0.38456210\n",
      "epoch: 43, loss: 0.36969435\n",
      "epoch: 44, loss: 0.35459664\n",
      "epoch: 45, loss: 0.33892748\n",
      "epoch: 46, loss: 0.32352665\n",
      "epoch: 47, loss: 0.30919167\n",
      "epoch: 48, loss: 0.29473734\n",
      "epoch: 49, loss: 0.28048137\n",
      "epoch: 50, loss: 0.26722968\n",
      "epoch: 51, loss: 0.25436318\n",
      "epoch: 52, loss: 0.24146949\n",
      "epoch: 53, loss: 0.22934206\n",
      "epoch: 54, loss: 0.21774496\n",
      "epoch: 55, loss: 0.20625153\n",
      "epoch: 56, loss: 0.19554925\n",
      "epoch: 57, loss: 0.18543908\n",
      "epoch: 58, loss: 0.17564823\n",
      "epoch: 59, loss: 0.16676606\n",
      "epoch: 60, loss: 0.15835246\n",
      "epoch: 61, loss: 0.15053058\n",
      "epoch: 62, loss: 0.14346203\n",
      "epoch: 63, loss: 0.13674761\n",
      "epoch: 64, loss: 0.13073131\n",
      "epoch: 65, loss: 0.12517305\n",
      "epoch: 66, loss: 0.12006800\n",
      "epoch: 67, loss: 0.11551543\n",
      "epoch: 68, loss: 0.11125153\n",
      "epoch: 69, loss: 0.10749640\n",
      "epoch: 70, loss: 0.10400636\n",
      "epoch: 71, loss: 0.10086945\n",
      "epoch: 72, loss: 0.09803407\n",
      "epoch: 73, loss: 0.09539961\n",
      "epoch: 74, loss: 0.09307491\n",
      "epoch: 75, loss: 0.09088237\n",
      "epoch: 76, loss: 0.08894407\n",
      "epoch: 77, loss: 0.08712669\n",
      "epoch: 78, loss: 0.08548126\n",
      "epoch: 79, loss: 0.08396907\n",
      "epoch: 80, loss: 0.08255429\n",
      "epoch: 81, loss: 0.08128312\n",
      "epoch: 82, loss: 0.08006774\n",
      "epoch: 83, loss: 0.07897739\n",
      "epoch: 84, loss: 0.07792968\n",
      "epoch: 85, loss: 0.07697833\n",
      "epoch: 86, loss: 0.07607082\n",
      "epoch: 87, loss: 0.07523034\n",
      "epoch: 88, loss: 0.07443818\n",
      "epoch: 89, loss: 0.07368805\n",
      "epoch: 90, loss: 0.07298817\n",
      "epoch: 91, loss: 0.07231427\n",
      "epoch: 92, loss: 0.07168808\n",
      "epoch: 93, loss: 0.07107951\n",
      "epoch: 94, loss: 0.07051240\n",
      "epoch: 95, loss: 0.06995943\n",
      "epoch: 96, loss: 0.06944216\n",
      "epoch: 97, loss: 0.06893805\n",
      "epoch: 98, loss: 0.06846375\n",
      "epoch: 99, loss: 0.06800079\n",
      "epoch: 100, loss: 0.06756166\n"
     ]
    }
   ],
   "source": [
    "epochs = 100\n",
    "losses = []\n",
    "for i in range(epochs):\n",
    "    y_pred = model.forward(X_train)\n",
    "    loss = criterion(y_pred, y_train)\n",
    "    losses.append(loss)\n",
    "    print(f\"epoch: {i + 1:2}, loss: {loss.item():10.8f}\")\n",
    "\n",
    "    optimizer.zero_grad()\n",
    "    loss.backward()\n",
    "    optimizer.step()"
   ]
  },
  {
   "cell_type": "code",
   "execution_count": 31,
   "metadata": {},
   "outputs": [
    {
     "data": {
      "text/plain": [
       "Text(0.5, 0, 'Epoch')"
      ]
     },
     "execution_count": 31,
     "metadata": {},
     "output_type": "execute_result"
    },
    {
     "data": {
      "image/png": "[encoded data removed]",
      "text/plain": [
       "<Figure size 432x288 with 1 Axes>"
      ]
     },
     "metadata": {
      "needs_background": "light"
     },
     "output_type": "display_data"
    }
   ],
   "source": [
    "plt.plot(losses)\n",
    "plt.ylabel(\"Loss\")\n",
    "plt.xlabel(\"Epoch\")"
   ]
  },
  {
   "cell_type": "code",
   "execution_count": 36,
   "metadata": {},
   "outputs": [],
   "source": [
    "with torch.no_grad():\n",
    "    y_pred = model.forward(X_test)\n",
    "    loss = criterion(y_pred, y_test)"
   ]
  },
  {
   "cell_type": "code",
   "execution_count": 37,
   "metadata": {},
   "outputs": [
    {
     "data": {
      "text/plain": [
       "tensor(0.0581)"
      ]
     },
     "execution_count": 37,
     "metadata": {},
     "output_type": "execute_result"
    }
   ],
   "source": [
    "loss"
   ]
  },
  {
   "cell_type": "code",
   "execution_count": 38,
   "metadata": {},
   "outputs": [],
   "source": [
    "torch.save(model.state_dict(), 'IrisModel.pt')"
   ]
  },
  {
   "cell_type": "code",
   "execution_count": 40,
   "metadata": {},
   "outputs": [
    {
     "data": {
      "text/plain": [
       "Model(\n",
       "  (Linear1): Linear(in_features=4, out_features=8, bias=True)\n",
       "  (Linear2): Linear(in_features=8, out_features=9, bias=True)\n",
       "  (Linear3): Linear(in_features=9, out_features=3, bias=True)\n",
       ")"
      ]
     },
     "execution_count": 40,
     "metadata": {},
     "output_type": "execute_result"
    }
   ],
   "source": [
    "new_model = Model(4, 8,9,3)\n",
    "new_model.load_state_dict(torch.load('IrisModel.pt'))\n",
    "new_model.eval()"
   ]
  },
  {
   "cell_type": "code",
   "execution_count": 41,
   "metadata": {},
   "outputs": [],
   "source": [
    "with torch.no_grad():\n",
    "    y_pred = new_model.forward(X_test)\n",
    "    loss = criterion(y_pred, y_test)"
   ]
  },
  {
   "cell_type": "code",
   "execution_count": 43,
   "metadata": {},
   "outputs": [
    {
     "data": {
      "text/plain": [
       "tensor(0.0581)"
      ]
     },
     "execution_count": 43,
     "metadata": {},
     "output_type": "execute_result"
    }
   ],
   "source": [
    "loss"
   ]
  },
  {
   "cell_type": "code",
   "execution_count": 44,
   "metadata": {},
   "outputs": [],
   "source": [
    "from torchvision import datasets, transforms"
   ]
  },
  {
   "cell_type": "code",
   "execution_count": 46,
   "metadata": {},
   "outputs": [],
   "source": [
    "transform = transforms.ToTensor()"
   ]
  },
  {
   "cell_type": "code",
   "execution_count": 48,
   "metadata": {},
   "outputs": [],
   "source": [
    "train_data = datasets.MNIST(root=r'\\Data', train=True, download=True, transform=transform)"
   ]
  },
  {
   "cell_type": "code",
   "execution_count": 49,
   "metadata": {},
   "outputs": [
    {
     "data": {
      "text/plain": [
       "Dataset MNIST\n",
       "    Number of datapoints: 60000\n",
       "    Root location: \\Data\n",
       "    Split: Train\n",
       "    StandardTransform\n",
       "Transform: ToTensor()"
      ]
     },
     "execution_count": 49,
     "metadata": {},
     "output_type": "execute_result"
    }
   ],
   "source": [
    "train_data"
   ]
  },
  {
   "cell_type": "code",
   "execution_count": 50,
   "metadata": {},
   "outputs": [],
   "source": [
    "test_data = datasets.MNIST(root=r'\\Data', train=False, download=True, transform=transform)"
   ]
  },
  {
   "cell_type": "code",
   "execution_count": 51,
   "metadata": {},
   "outputs": [
    {
     "data": {
      "text/plain": [
       "Dataset MNIST\n",
       "    Number of datapoints: 10000\n",
       "    Root location: \\Data\n",
       "    Split: Test\n",
       "    StandardTransform\n",
       "Transform: ToTensor()"
      ]
     },
     "execution_count": 51,
     "metadata": {},
     "output_type": "execute_result"
    }
   ],
   "source": [
    "test_data"
   ]
  },
  {
   "cell_type": "code",
   "execution_count": 64,
   "metadata": {},
   "outputs": [
    {
     "data": {
      "text/plain": [
       "<matplotlib.image.AxesImage at 0x216aa2193c8>"
      ]
     },
     "execution_count": 64,
     "metadata": {},
     "output_type": "execute_result"
    },
    {
     "data": {
      "image/png": "[encoded data removed]",
      "text/plain": [
       "<Figure size 432x288 with 1 Axes>"
      ]
     },
     "metadata": {
      "needs_background": "light"
     },
     "output_type": "display_data"
    }
   ],
   "source": [
    "plt.imshow(train_data[2][0].reshape((28, 28)))"
   ]
  },
  {
   "cell_type": "code",
   "execution_count": 78,
   "metadata": {},
   "outputs": [
    {
     "data": {
      "text/plain": [
       "torch.Size([1, 28, 28])"
      ]
     },
     "execution_count": 78,
     "metadata": {},
     "output_type": "execute_result"
    }
   ],
   "source": [
    "train_data[2][0].size()"
   ]
  },
  {
   "cell_type": "code",
   "execution_count": 65,
   "metadata": {},
   "outputs": [
    {
     "data": {
      "text/plain": [
       "4"
      ]
     },
     "execution_count": 65,
     "metadata": {},
     "output_type": "execute_result"
    }
   ],
   "source": [
    "train_data[2][1]"
   ]
  },
  {
   "cell_type": "code",
   "execution_count": 66,
   "metadata": {},
   "outputs": [],
   "source": [
    "train_loader = DataLoader(train_data, batch_size=100, shuffle=True)"
   ]
  },
  {
   "cell_type": "code",
   "execution_count": 74,
   "metadata": {},
   "outputs": [],
   "source": [
    "test_loader = DataLoader(train_data, batch_size=500, shuffle=False)"
   ]
  },
  {
   "cell_type": "code",
   "execution_count": 83,
   "metadata": {},
   "outputs": [],
   "source": [
    "class Model(nn.Module):\n",
    "    def __init__(self, in_size=28*28, h1=120, h2=84, out_size=10):\n",
    "        super().__init__()\n",
    "        self.linear1 = nn.Linear(in_size, h1)\n",
    "        self.linear2 = nn.Linear(h1, h2)\n",
    "        self.out = nn.Linear(h2, out_size)\n",
    "        \n",
    "    def forward(self, x):\n",
    "        x = F.relu(self.linear1(x))\n",
    "        x = F.relu(self.linear2(x))\n",
    "        x = self.out(x)\n",
    "        x = F.log_softmax(x, dim=1)\n",
    "        return x"
   ]
  },
  {
   "cell_type": "code",
   "execution_count": 119,
   "metadata": {},
   "outputs": [
    {
     "data": {
      "text/plain": [
       "Model(\n",
       "  (linear1): Linear(in_features=784, out_features=120, bias=True)\n",
       "  (linear2): Linear(in_features=120, out_features=84, bias=True)\n",
       "  (out): Linear(in_features=84, out_features=10, bias=True)\n",
       ")"
      ]
     },
     "execution_count": 119,
     "metadata": {},
     "output_type": "execute_result"
    }
   ],
   "source": [
    "torch.manual_seed(101)\n",
    "model = Model()\n",
    "model"
   ]
  },
  {
   "cell_type": "code",
   "execution_count": 120,
   "metadata": {},
   "outputs": [],
   "source": [
    "criterion = nn.CrossEntropyLoss()\n",
    "optimizer = torch.optim.Adam(model.parameters(), lr=1e-3)"
   ]
  },
  {
   "cell_type": "code",
   "execution_count": 121,
   "metadata": {},
   "outputs": [],
   "source": [
    "# a[0] -> # Batch at index 0\n",
    "# a[0][0] -> # all the images of batch 0\n",
    "# a[0][1] -> # all the labels of batch 0\n",
    "# a[0][0][4] -> 5th image at batch 0\n",
    "# a[0][1][4] -> 5th label at batch 0"
   ]
  },
  {
   "cell_type": "code",
   "execution_count": 122,
   "metadata": {},
   "outputs": [
    {
     "data": {
      "text/plain": [
       "torch.Size([100, 1, 28, 28])"
      ]
     },
     "execution_count": 122,
     "metadata": {},
     "output_type": "execute_result"
    }
   ],
   "source": [
    "a[0][0].size()"
   ]
  },
  {
   "cell_type": "code",
   "execution_count": 123,
   "metadata": {},
   "outputs": [
    {
     "name": "stdout",
     "output_type": "stream",
     "text": [
      "epoch = 0\n",
      "epoch = 1\n",
      "epoch = 2\n",
      "epoch = 3\n",
      "epoch = 4\n",
      "epoch = 5\n",
      "epoch = 6\n",
      "epoch = 7\n",
      "epoch = 8\n",
      "epoch = 9\n",
      "epoch = 10\n",
      "epoch = 11\n",
      "epoch = 12\n",
      "epoch = 13\n",
      "epoch = 14\n",
      "epoch = 15\n",
      "epoch = 16\n",
      "epoch = 17\n",
      "epoch = 18\n",
      "epoch = 19\n"
     ]
    }
   ],
   "source": [
    "epochs = 20\n",
    "\n",
    "train_losses = []\n",
    "test_losses = []\n",
    "train_correct = []\n",
    "test_correct = []\n",
    "\n",
    "for i in range(epochs):\n",
    "    trn_correct = 0\n",
    "    tst_correct = 0\n",
    "    \n",
    "    print(f\"epoch = {i}\")\n",
    "    \n",
    "    for b, (X_train, y_train) in enumerate(train_loader):\n",
    "        y_pred = model.forward(X_train.view(100, 784))\n",
    "        loss = criterion(y_pred, y_train)\n",
    "        \n",
    "        optimizer.zero_grad()\n",
    "        loss.backward()\n",
    "        optimizer.step()"
   ]
  },
  {
   "cell_type": "code",
   "execution_count": 124,
   "metadata": {},
   "outputs": [
    {
     "data": {
      "text/plain": [
       "<matplotlib.image.AxesImage at 0x216aa498248>"
      ]
     },
     "execution_count": 124,
     "metadata": {},
     "output_type": "execute_result"
    },
    {
     "data": {
      "image/png": "[encoded data removed]",
      "text/plain": [
       "<Figure size 432x288 with 1 Axes>"
      ]
     },
     "metadata": {
      "needs_background": "light"
     },
     "output_type": "display_data"
    }
   ],
   "source": [
    "plt.imshow(train_data[2][0].reshape((28, 28)))"
   ]
  },
  {
   "cell_type": "code",
   "execution_count": 125,
   "metadata": {},
   "outputs": [
    {
     "name": "stderr",
     "output_type": "stream",
     "text": [
      "C:\\Users\\Salar Shahryari\\anaconda3\\lib\\site-packages\\ipykernel_launcher.py:1: UserWarning: To copy construct from a tensor, it is recommended to use sourceTensor.clone().detach() or sourceTensor.clone().detach().requires_grad_(True), rather than torch.tensor(sourceTensor).\n",
      "  \"\"\"Entry point for launching an IPython kernel.\n"
     ]
    }
   ],
   "source": [
    "four = torch.tensor(train_data[2][0]).view(1, 784)"
   ]
  },
  {
   "cell_type": "code",
   "execution_count": 127,
   "metadata": {},
   "outputs": [
    {
     "data": {
      "text/plain": [
       "torch.Size([1, 784])"
      ]
     },
     "execution_count": 127,
     "metadata": {},
     "output_type": "execute_result"
    }
   ],
   "source": [
    "four.size()"
   ]
  },
  {
   "cell_type": "code",
   "execution_count": 133,
   "metadata": {},
   "outputs": [
    {
     "data": {
      "text/plain": [
       "tensor(4)"
      ]
     },
     "execution_count": 133,
     "metadata": {},
     "output_type": "execute_result"
    }
   ],
   "source": [
    "torch.argmax(model.forward(four))"
   ]
  },
  {
   "cell_type": "code",
   "execution_count": 147,
   "metadata": {},
   "outputs": [],
   "source": [
    "two = plt.imread('2.jpg')"
   ]
  },
  {
   "cell_type": "code",
   "execution_count": 148,
   "metadata": {},
   "outputs": [
    {
     "data": {
      "text/plain": [
       "(28, 28, 3)"
      ]
     },
     "execution_count": 148,
     "metadata": {},
     "output_type": "execute_result"
    }
   ],
   "source": [
    "two.shape"
   ]
  },
  {
   "cell_type": "code",
   "execution_count": 149,
   "metadata": {},
   "outputs": [],
   "source": [
    "import numpy as np\n",
    "import matplotlib.pyplot as plt\n",
    "import matplotlib.image as mpimg\n",
    "\n",
    "def rgb2gray(rgb):\n",
    "    return np.dot(rgb[...,:3], [0.299, 0.587, 0.144])"
   ]
  },
  {
   "cell_type": "code",
   "execution_count": 150,
   "metadata": {},
   "outputs": [],
   "source": [
    "two_ = rgb2gray(two)"
   ]
  },
  {
   "cell_type": "code",
   "execution_count": 151,
   "metadata": {},
   "outputs": [],
   "source": [
    "two_ = torch.FloatTensor(two_).view(1, 784)"
   ]
  },
  {
   "cell_type": "code",
   "execution_count": 152,
   "metadata": {},
   "outputs": [
    {
     "data": {
      "text/plain": [
       "tensor(3)"
      ]
     },
     "execution_count": 152,
     "metadata": {},
     "output_type": "execute_result"
    }
   ],
   "source": [
    "torch.argmax(model.forward(two_))"
   ]
  },
  {
   "cell_type": "code",
   "execution_count": 153,
   "metadata": {},
   "outputs": [
    {
     "data": {
      "text/plain": [
       "tensor([[262.6500, 262.6500, 262.6500, 262.6500, 262.6500, 262.6500, 262.6500,\n",
       "         262.6500, 261.6200, 262.6500, 261.6200, 262.6500, 262.6500, 262.6500,\n",
       "         262.6500, 262.6500, 262.6500, 262.6500, 262.6500, 262.6500, 262.6500,\n",
       "         262.6500, 262.6500, 261.6200, 262.6500, 262.6500, 262.6500, 262.6500,\n",
       "         262.6500, 262.6500, 262.6500, 262.6500, 262.6500, 262.6500, 262.6500,\n",
       "         262.6500, 262.6500, 261.6200, 262.6500, 261.6200, 262.6500, 262.6500,\n",
       "         262.6500, 262.6500, 262.6500, 262.6500, 262.6500, 262.6500, 261.6200,\n",
       "         262.6500, 262.6500, 262.6500, 262.6500, 262.6500, 262.6500, 262.6500,\n",
       "         262.6500, 262.6500, 262.6500, 262.6500, 262.6500, 262.6500, 262.6500,\n",
       "         262.6500, 262.6500, 261.6200, 262.6500, 262.6500, 262.6500, 262.6500,\n",
       "         261.6200, 262.6500, 262.6500, 262.6500, 262.6500, 262.6500, 262.6500,\n",
       "         260.5900, 262.6500, 261.6200, 262.6500, 262.6500, 262.6500, 262.6500,\n",
       "         262.6500, 262.6500, 262.6500, 262.6500, 262.6500, 262.6500, 262.6500,\n",
       "         262.6500, 262.6500, 262.6500, 262.6500, 262.6500, 261.6200, 247.2000,\n",
       "         221.4500, 233.8100, 262.6500, 262.6500, 262.6500, 262.6500, 261.6200,\n",
       "         262.6500, 261.6200, 262.6500, 262.6500, 262.6500, 262.6500, 262.6500,\n",
       "         262.6500, 262.6500, 262.6500, 262.6500, 262.6500, 262.6500, 262.6500,\n",
       "         262.6500, 262.6500, 262.6500, 247.2000, 138.0200, 107.1200, 101.9700,\n",
       "         109.1800,  91.6700, 132.8700, 261.6200, 262.6500, 262.6500, 262.6500,\n",
       "         261.6200, 262.6500, 262.6500, 262.6500, 262.6500, 262.6500, 262.6500,\n",
       "         262.6500, 262.6500, 262.6500, 262.6500, 262.6500, 262.6500, 262.6500,\n",
       "         262.6500, 262.6500, 247.2000,  88.5800, 103.0000, 207.0300, 253.3800,\n",
       "         262.6500, 262.6500,  99.9100, 169.9500, 262.6500, 262.6500, 262.6500,\n",
       "         262.6500, 262.6500, 262.6500, 262.6500, 262.6500, 262.6500, 262.6500,\n",
       "         262.6500, 262.6500, 262.6500, 262.6500, 262.6500, 262.6500, 262.6500,\n",
       "         262.6500, 262.6500,  82.4000, 135.9600, 262.6500, 262.6500, 262.6500,\n",
       "         262.6500, 261.6200, 180.2500, 109.1800, 262.6500, 262.6500, 261.6200,\n",
       "         262.6500, 262.6500, 262.6500, 262.6500, 262.6500, 262.6500, 262.6500,\n",
       "         262.6500, 262.6500, 262.6500, 262.6500, 262.6500, 262.6500, 262.6500,\n",
       "         262.6500, 147.2900, 111.2400, 262.6500, 262.6500, 262.6500, 262.6500,\n",
       "         262.6500, 262.6500, 231.7500,  94.7600, 251.3200, 261.6200, 262.6500,\n",
       "         262.6500, 262.6500, 262.6500, 262.6500, 262.6500, 262.6500, 262.6500,\n",
       "         261.6200, 262.6500, 261.6200, 262.6500, 261.6200, 262.6500, 262.6500,\n",
       "         262.6500,  89.6100, 182.3100, 262.6500, 261.6200, 262.6500, 262.6500,\n",
       "         262.6500, 262.6500, 262.6500,  83.4300, 209.0900, 262.6500, 262.6500,\n",
       "         261.6200, 262.6500, 262.6500, 262.6500, 262.6500, 262.6500, 262.6500,\n",
       "         262.6500, 262.6500, 262.6500, 262.6500, 262.6500, 262.6500, 262.6500,\n",
       "         220.4200, 104.0300, 262.6500, 262.6500, 262.6500, 262.6500, 262.6500,\n",
       "         262.6500, 261.6200, 262.6500,  83.4300, 208.0600, 262.6500, 262.6500,\n",
       "         262.6500, 261.6200, 262.6500, 262.6500, 262.6500, 262.6500, 262.6500,\n",
       "         262.6500, 261.6200, 262.6500, 262.6500, 262.6500, 261.6200, 262.6500,\n",
       "         246.1700, 223.5100, 262.6500, 261.6200, 262.6500, 261.6200, 261.6200,\n",
       "         262.6500, 262.6500, 262.6500,  84.4600, 208.0600, 262.6500, 262.6500,\n",
       "         262.6500, 262.6500, 262.6500, 262.6500, 262.6500, 262.6500, 262.6500,\n",
       "         262.6500, 262.6500, 262.6500, 262.6500, 262.6500, 262.6500, 261.6200,\n",
       "         262.6500, 261.6200, 262.6500, 262.6500, 262.6500, 262.6500, 262.6500,\n",
       "         262.6500, 262.6500, 262.6500,  80.3400, 208.0600, 262.6500, 262.6500,\n",
       "         262.6500, 262.6500, 262.6500, 262.6500, 262.6500, 262.6500, 262.6500,\n",
       "         262.6500, 261.6200, 262.6500, 262.6500, 262.6500, 261.6200, 262.6500,\n",
       "         262.6500, 262.6500, 262.6500, 261.6200, 262.6500, 261.6200, 262.6500,\n",
       "         261.6200, 262.6500, 217.3300,  85.4900, 259.5600, 262.6500, 262.6500,\n",
       "         262.6500, 261.6200, 262.6500, 262.6500, 262.6500, 262.6500, 262.6500,\n",
       "         262.6500, 262.6500, 262.6500, 261.6200, 262.6500, 262.6500, 262.6500,\n",
       "         262.6500, 262.6500, 262.6500, 262.6500, 261.6200, 262.6500, 262.6500,\n",
       "         262.6500, 262.6500, 111.2400, 128.7500, 262.6500, 262.6500, 262.6500,\n",
       "         262.6500, 262.6500, 262.6500, 262.6500, 262.6500, 262.6500, 262.6500,\n",
       "         262.6500, 262.6500, 262.6500, 262.6500, 262.6500, 261.6200, 262.6500,\n",
       "         262.6500, 262.6500, 262.6500, 262.6500, 261.6200, 262.6500, 262.6500,\n",
       "         261.6200, 179.2200,  65.9200, 262.6500, 262.6500, 262.6500, 262.6500,\n",
       "         262.6500, 262.6500, 262.6500, 262.6500, 262.6500, 262.6500, 262.6500,\n",
       "         262.6500, 262.6500, 262.6500, 262.6500, 262.6500, 262.6500, 262.6500,\n",
       "         262.6500, 261.6200, 262.6500, 261.6200, 262.6500, 262.6500, 261.6200,\n",
       "         229.6900,  44.2900, 192.6100, 262.6500, 262.6500, 262.6500, 261.6200,\n",
       "         262.6500, 262.6500, 262.6500, 262.6500, 262.6500, 262.6500, 262.6500,\n",
       "         262.6500, 262.6500, 262.6500, 262.6500, 262.6500, 262.6500, 262.6500,\n",
       "         262.6500, 261.6200, 262.6500, 261.6200, 262.6500, 262.6500, 231.7500,\n",
       "          24.7200, 162.7400, 262.6500, 262.6500, 262.6500, 261.6200, 262.6500,\n",
       "         261.6200, 262.6500, 262.6500, 262.6500, 262.6500, 262.6500, 262.6500,\n",
       "         262.6500, 262.6500, 262.6500, 262.6500, 261.6200, 262.6500, 262.6500,\n",
       "         262.6500, 262.6500, 262.6500, 262.6500, 261.6200, 209.0900,  37.0800,\n",
       "         161.7100, 262.6500, 262.6500, 262.6500, 262.6500, 262.6500, 262.6500,\n",
       "         262.6500, 262.6500, 262.6500, 262.6500, 262.6500, 262.6500, 262.6500,\n",
       "         262.6500, 262.6500, 262.6500, 261.6200, 262.6500, 261.6200, 262.6500,\n",
       "         261.6200, 262.6500, 261.6200, 262.6500, 166.8600,  33.9900, 195.7000,\n",
       "         262.6500, 262.6500, 261.6200, 262.6500, 262.6500, 262.6500, 262.6500,\n",
       "         262.6500, 262.6500, 262.6500, 262.6500, 262.6500, 262.6500, 262.6500,\n",
       "         262.6500, 262.6500, 262.6500, 262.6500, 262.6500, 262.6500, 262.6500,\n",
       "         262.6500, 262.6500, 257.5000, 135.9600,  43.2600, 224.5400, 261.6200,\n",
       "         262.6500, 262.6500, 262.6500, 261.6200, 262.6500, 262.6500, 262.6500,\n",
       "         262.6500, 262.6500, 262.6500, 262.6500, 262.6500, 262.6500, 262.6500,\n",
       "         262.6500, 262.6500, 262.6500, 262.6500, 262.6500, 262.6500, 262.6500,\n",
       "         262.6500, 215.2700,  79.3100, 139.0500, 262.6500, 262.6500, 262.6500,\n",
       "         262.6500, 262.6500, 262.6500, 262.6500, 262.6500, 262.6500, 200.8500,\n",
       "         147.2900, 134.9300, 202.9100, 262.6500, 262.6500, 262.6500, 262.6500,\n",
       "         262.6500, 262.6500, 262.6500, 262.6500, 262.6500, 262.6500, 262.6500,\n",
       "         151.4100,   7.2100, 172.0100, 262.6500, 181.2800, 123.6000, 117.4200,\n",
       "         123.6000, 124.6300, 123.6000, 123.6000, 128.7500, 107.1200,  71.0700,\n",
       "         121.5400, 119.4800, 187.4600, 262.6500, 262.6500, 262.6500, 262.6500,\n",
       "         262.6500, 262.6500, 261.6200, 262.6500, 262.6500, 261.6200, 224.5400,\n",
       "          20.6000,  88.5800, 152.4400,  96.8200, 132.8700, 175.1000, 173.0400,\n",
       "         173.0400, 170.9800, 173.0400, 172.0100, 161.7100, 190.5500, 262.6500,\n",
       "         261.6200, 262.6500, 262.6500, 262.6500, 262.6500, 262.6500, 262.6500,\n",
       "         262.6500, 262.6500, 262.6500, 262.6500, 262.6500, 262.6500, 258.5300,\n",
       "         260.5900, 262.6500, 259.5600, 261.6200, 262.6500, 262.6500, 262.6500,\n",
       "         261.6200, 262.6500, 262.6500, 262.6500, 262.6500, 262.6500, 262.6500,\n",
       "         262.6500, 262.6500, 261.6200, 262.6500, 262.6500, 262.6500, 262.6500,\n",
       "         262.6500, 262.6500, 262.6500, 262.6500, 262.6500, 262.6500, 262.6500,\n",
       "         262.6500, 262.6500, 262.6500, 262.6500, 262.6500, 262.6500, 262.6500,\n",
       "         262.6500, 262.6500, 262.6500, 262.6500, 262.6500, 262.6500, 262.6500,\n",
       "         262.6500, 262.6500, 262.6500, 262.6500, 262.6500, 262.6500, 262.6500,\n",
       "         262.6500, 262.6500, 262.6500, 262.6500, 262.6500, 262.6500, 262.6500,\n",
       "         262.6500, 262.6500, 262.6500, 262.6500, 262.6500, 262.6500, 262.6500,\n",
       "         262.6500, 262.6500, 262.6500, 262.6500, 262.6500, 262.6500, 262.6500,\n",
       "         262.6500, 262.6500, 262.6500, 262.6500, 262.6500, 262.6500, 262.6500,\n",
       "         262.6500, 262.6500, 262.6500, 262.6500, 262.6500, 262.6500, 262.6500,\n",
       "         262.6500, 262.6500, 262.6500, 262.6500, 262.6500, 262.6500, 262.6500,\n",
       "         262.6500, 262.6500, 262.6500, 262.6500, 262.6500, 262.6500, 262.6500,\n",
       "         262.6500, 262.6500, 262.6500, 262.6500, 262.6500, 262.6500, 262.6500,\n",
       "         262.6500, 262.6500, 262.6500, 262.6500, 262.6500, 262.6500, 262.6500,\n",
       "         262.6500, 262.6500, 262.6500, 262.6500, 262.6500, 262.6500, 262.6500,\n",
       "         262.6500, 262.6500, 262.6500, 262.6500, 262.6500, 262.6500, 262.6500,\n",
       "         262.6500, 262.6500, 262.6500, 262.6500, 262.6500, 262.6500, 262.6500]])"
      ]
     },
     "execution_count": 153,
     "metadata": {},
     "output_type": "execute_result"
    }
   ],
   "source": [
    "two_"
   ]
  },
  {
   "cell_type": "code",
   "execution_count": 154,
   "metadata": {},
   "outputs": [
    {
     "data": {
      "text/plain": [
       "tensor([[0.0000, 0.0000, 0.0000, 0.0000, 0.0000, 0.0000, 0.0000, 0.0000, 0.0000,\n",
       "         0.0000, 0.0000, 0.0000, 0.0000, 0.0000, 0.0000, 0.0000, 0.0000, 0.0000,\n",
       "         0.0000, 0.0000, 0.0000, 0.0000, 0.0000, 0.0000, 0.0000, 0.0000, 0.0000,\n",
       "         0.0000, 0.0000, 0.0000, 0.0000, 0.0000, 0.0000, 0.0000, 0.0000, 0.0000,\n",
       "         0.0000, 0.0000, 0.0000, 0.0000, 0.0000, 0.0000, 0.0000, 0.0000, 0.0000,\n",
       "         0.0000, 0.0000, 0.0000, 0.0000, 0.0000, 0.0000, 0.0000, 0.0000, 0.0000,\n",
       "         0.0000, 0.0000, 0.0000, 0.0000, 0.0000, 0.0000, 0.0000, 0.0000, 0.0000,\n",
       "         0.0000, 0.0000, 0.0000, 0.0000, 0.0000, 0.0000, 0.0000, 0.0000, 0.0000,\n",
       "         0.0000, 0.0000, 0.0000, 0.0000, 0.0000, 0.0000, 0.0000, 0.0000, 0.0000,\n",
       "         0.0000, 0.0000, 0.0000, 0.0000, 0.0000, 0.0000, 0.0000, 0.0000, 0.0000,\n",
       "         0.0000, 0.0000, 0.0000, 0.0000, 0.0000, 0.0000, 0.0000, 0.0000, 0.0000,\n",
       "         0.0000, 0.0000, 0.0000, 0.0000, 0.0000, 0.0000, 0.0000, 0.0000, 0.0000,\n",
       "         0.0000, 0.0000, 0.0000, 0.0000, 0.0000, 0.0000, 0.0000, 0.0000, 0.0000,\n",
       "         0.0000, 0.0000, 0.0000, 0.0000, 0.0000, 0.0000, 0.0000, 0.0000, 0.0000,\n",
       "         0.0000, 0.0000, 0.0000, 0.0000, 0.0000, 0.0000, 0.0000, 0.0000, 0.0000,\n",
       "         0.0000, 0.0000, 0.0000, 0.0000, 0.0000, 0.0000, 0.0000, 0.0000, 0.0000,\n",
       "         0.0000, 0.0000, 0.0000, 0.0000, 0.0000, 0.0000, 0.0000, 0.0000, 0.0000,\n",
       "         0.0000, 0.0000, 0.0000, 0.0000, 0.0000, 0.0000, 0.0000, 0.2627, 0.9098,\n",
       "         0.1529, 0.0000, 0.0000, 0.0000, 0.0000, 0.0000, 0.0000, 0.0000, 0.0000,\n",
       "         0.0000, 0.2431, 0.3176, 0.0000, 0.0000, 0.0000, 0.0000, 0.0000, 0.0000,\n",
       "         0.0000, 0.0000, 0.0000, 0.0000, 0.0000, 0.0000, 0.0000, 0.0000, 0.4706,\n",
       "         0.7059, 0.1529, 0.0000, 0.0000, 0.0000, 0.0000, 0.0000, 0.0000, 0.0000,\n",
       "         0.0000, 0.0000, 0.4941, 0.6392, 0.0000, 0.0000, 0.0000, 0.0000, 0.0000,\n",
       "         0.0000, 0.0000, 0.0000, 0.0000, 0.0000, 0.0000, 0.0000, 0.0000, 0.0078,\n",
       "         0.6000, 0.8235, 0.1569, 0.0000, 0.0000, 0.0000, 0.0000, 0.0000, 0.0000,\n",
       "         0.0000, 0.0000, 0.0000, 0.8627, 0.6392, 0.0000, 0.0000, 0.0000, 0.0000,\n",
       "         0.0000, 0.0000, 0.0000, 0.0000, 0.0000, 0.0000, 0.0000, 0.0000, 0.0000,\n",
       "         0.1059, 0.9961, 0.6353, 0.0000, 0.0000, 0.0000, 0.0000, 0.0000, 0.0000,\n",
       "         0.0000, 0.0000, 0.0000, 0.0000, 0.8706, 0.6392, 0.0000, 0.0000, 0.0000,\n",
       "         0.0000, 0.0000, 0.0000, 0.0000, 0.0000, 0.0000, 0.0000, 0.0000, 0.0000,\n",
       "         0.0000, 0.7176, 0.9961, 0.4902, 0.0000, 0.0000, 0.0000, 0.0000, 0.0000,\n",
       "         0.0000, 0.0000, 0.0000, 0.0000, 0.1804, 0.9608, 0.6392, 0.0000, 0.0000,\n",
       "         0.0000, 0.0000, 0.0000, 0.0000, 0.0000, 0.0000, 0.0000, 0.0000, 0.0000,\n",
       "         0.0000, 0.0000, 0.7765, 0.9961, 0.2196, 0.0000, 0.0000, 0.0000, 0.0000,\n",
       "         0.0000, 0.0000, 0.0000, 0.0000, 0.0000, 0.4706, 0.9961, 0.6392, 0.0000,\n",
       "         0.0000, 0.0000, 0.0000, 0.0000, 0.0000, 0.0000, 0.0000, 0.0000, 0.0000,\n",
       "         0.0000, 0.0000, 0.0902, 0.9059, 0.9961, 0.1137, 0.0000, 0.0000, 0.0000,\n",
       "         0.0000, 0.0000, 0.0000, 0.0000, 0.0000, 0.0000, 0.6235, 0.9961, 0.4706,\n",
       "         0.0000, 0.0000, 0.0000, 0.0000, 0.0000, 0.0000, 0.0000, 0.0000, 0.0000,\n",
       "         0.0000, 0.0000, 0.0000, 0.6392, 0.9961, 0.8471, 0.0627, 0.0000, 0.0000,\n",
       "         0.0000, 0.0000, 0.0000, 0.0000, 0.0000, 0.0000, 0.0000, 0.6235, 0.9961,\n",
       "         0.2627, 0.0000, 0.0000, 0.0000, 0.0000, 0.0000, 0.0000, 0.0000, 0.0000,\n",
       "         0.0000, 0.0549, 0.3373, 0.6980, 0.9725, 0.9961, 0.3569, 0.0000, 0.0000,\n",
       "         0.0000, 0.0000, 0.0000, 0.0000, 0.0000, 0.0000, 0.0000, 0.0000, 0.6235,\n",
       "         0.9961, 0.3333, 0.0000, 0.0000, 0.0000, 0.1843, 0.1922, 0.4549, 0.5647,\n",
       "         0.5882, 0.9451, 0.9529, 0.9176, 0.7020, 0.9451, 0.9882, 0.1569, 0.0000,\n",
       "         0.0000, 0.0000, 0.0000, 0.0000, 0.0000, 0.0000, 0.0000, 0.0000, 0.0000,\n",
       "         0.5882, 0.9922, 0.9294, 0.8118, 0.8118, 0.8118, 0.9922, 0.9961, 0.9804,\n",
       "         0.9412, 0.7765, 0.5608, 0.3569, 0.1098, 0.0196, 0.9137, 0.9804, 0.0000,\n",
       "         0.0000, 0.0000, 0.0000, 0.0000, 0.0000, 0.0000, 0.0000, 0.0000, 0.0000,\n",
       "         0.0000, 0.0000, 0.4667, 0.6941, 0.6941, 0.6941, 0.6941, 0.6941, 0.3843,\n",
       "         0.2196, 0.0000, 0.0000, 0.0000, 0.0000, 0.0000, 0.4000, 0.9961, 0.8627,\n",
       "         0.0000, 0.0000, 0.0000, 0.0000, 0.0000, 0.0000, 0.0000, 0.0000, 0.0000,\n",
       "         0.0000, 0.0000, 0.0000, 0.0000, 0.0000, 0.0000, 0.0000, 0.0000, 0.0000,\n",
       "         0.0000, 0.0000, 0.0000, 0.0000, 0.0000, 0.0000, 0.0000, 0.6627, 0.9961,\n",
       "         0.5373, 0.0000, 0.0000, 0.0000, 0.0000, 0.0000, 0.0000, 0.0000, 0.0000,\n",
       "         0.0000, 0.0000, 0.0000, 0.0000, 0.0000, 0.0000, 0.0000, 0.0000, 0.0000,\n",
       "         0.0000, 0.0000, 0.0000, 0.0000, 0.0000, 0.0000, 0.0000, 0.0000, 0.6627,\n",
       "         0.9961, 0.2235, 0.0000, 0.0000, 0.0000, 0.0000, 0.0000, 0.0000, 0.0000,\n",
       "         0.0000, 0.0000, 0.0000, 0.0000, 0.0000, 0.0000, 0.0000, 0.0000, 0.0000,\n",
       "         0.0000, 0.0000, 0.0000, 0.0000, 0.0000, 0.0000, 0.0000, 0.0000, 0.0000,\n",
       "         0.6627, 0.9961, 0.2235, 0.0000, 0.0000, 0.0000, 0.0000, 0.0000, 0.0000,\n",
       "         0.0000, 0.0000, 0.0000, 0.0000, 0.0000, 0.0000, 0.0000, 0.0000, 0.0000,\n",
       "         0.0000, 0.0000, 0.0000, 0.0000, 0.0000, 0.0000, 0.0000, 0.0000, 0.0000,\n",
       "         0.0000, 0.6627, 1.0000, 0.3686, 0.0000, 0.0000, 0.0000, 0.0000, 0.0000,\n",
       "         0.0000, 0.0000, 0.0000, 0.0000, 0.0000, 0.0000, 0.0000, 0.0000, 0.0000,\n",
       "         0.0000, 0.0000, 0.0000, 0.0000, 0.0000, 0.0000, 0.0000, 0.0000, 0.0000,\n",
       "         0.0000, 0.0000, 0.6627, 0.9961, 0.3765, 0.0000, 0.0000, 0.0000, 0.0000,\n",
       "         0.0000, 0.0000, 0.0000, 0.0000, 0.0000, 0.0000, 0.0000, 0.0000, 0.0000,\n",
       "         0.0000, 0.0000, 0.0000, 0.0000, 0.0000, 0.0000, 0.0000, 0.0000, 0.0000,\n",
       "         0.0000, 0.0000, 0.0000, 0.6627, 0.9961, 0.6000, 0.0000, 0.0000, 0.0000,\n",
       "         0.0000, 0.0000, 0.0000, 0.0000, 0.0000, 0.0000, 0.0000, 0.0000, 0.0000,\n",
       "         0.0000, 0.0000, 0.0000, 0.0000, 0.0000, 0.0000, 0.0000, 0.0000, 0.0000,\n",
       "         0.0000, 0.0000, 0.0000, 0.0000, 0.6627, 1.0000, 0.6000, 0.0000, 0.0000,\n",
       "         0.0000, 0.0000, 0.0000, 0.0000, 0.0000, 0.0000, 0.0000, 0.0000, 0.0000,\n",
       "         0.0000, 0.0000, 0.0000, 0.0000, 0.0000, 0.0000, 0.0000, 0.0000, 0.0000,\n",
       "         0.0000, 0.0000, 0.0000, 0.0000, 0.0000, 0.3765, 0.9961, 0.6000, 0.0000,\n",
       "         0.0000, 0.0000, 0.0000, 0.0000, 0.0000, 0.0000, 0.0000, 0.0000, 0.0000,\n",
       "         0.0000, 0.0000, 0.0000, 0.0000, 0.0000, 0.0000, 0.0000, 0.0000, 0.0000,\n",
       "         0.0000, 0.0000, 0.0000, 0.0000, 0.0000, 0.0000, 0.0000, 0.0000, 0.0000,\n",
       "         0.0000, 0.0000, 0.0000, 0.0000, 0.0000, 0.0000, 0.0000, 0.0000, 0.0000,\n",
       "         0.0000, 0.0000, 0.0000, 0.0000, 0.0000, 0.0000, 0.0000, 0.0000, 0.0000,\n",
       "         0.0000, 0.0000, 0.0000, 0.0000, 0.0000, 0.0000, 0.0000, 0.0000, 0.0000,\n",
       "         0.0000, 0.0000, 0.0000, 0.0000, 0.0000, 0.0000, 0.0000, 0.0000, 0.0000,\n",
       "         0.0000, 0.0000, 0.0000, 0.0000, 0.0000, 0.0000, 0.0000, 0.0000, 0.0000,\n",
       "         0.0000, 0.0000, 0.0000, 0.0000, 0.0000, 0.0000, 0.0000, 0.0000, 0.0000,\n",
       "         0.0000, 0.0000, 0.0000, 0.0000, 0.0000, 0.0000, 0.0000, 0.0000, 0.0000,\n",
       "         0.0000]])"
      ]
     },
     "execution_count": 154,
     "metadata": {},
     "output_type": "execute_result"
    }
   ],
   "source": [
    "four"
   ]
  },
  {
   "cell_type": "code",
   "execution_count": 155,
   "metadata": {},
   "outputs": [],
   "source": [
    "for X_test, y_test in test_loader:\n",
    "    y_val = model.forward(X_test.view(500, -1))"
   ]
  },
  {
   "cell_type": "code",
   "execution_count": 156,
   "metadata": {},
   "outputs": [
    {
     "data": {
      "text/plain": [
       "torch.Size([500, 10])"
      ]
     },
     "execution_count": 156,
     "metadata": {},
     "output_type": "execute_result"
    }
   ],
   "source": [
    "y_val.size()"
   ]
  },
  {
   "cell_type": "code",
   "execution_count": 171,
   "metadata": {},
   "outputs": [
    {
     "data": {
      "text/plain": [
       "tensor(5)"
      ]
     },
     "execution_count": 171,
     "metadata": {},
     "output_type": "execute_result"
    }
   ],
   "source": [
    "torch.argmax(y_val[2])"
   ]
  },
  {
   "cell_type": "code",
   "execution_count": 170,
   "metadata": {},
   "outputs": [
    {
     "data": {
      "text/plain": [
       "<matplotlib.image.AxesImage at 0x216aa260d48>"
      ]
     },
     "execution_count": 170,
     "metadata": {},
     "output_type": "execute_result"
    },
    {
     "data": {
      "image/png": "[encoded data removed]",
      "text/plain": [
       "<Figure size 432x288 with 1 Axes>"
      ]
     },
     "metadata": {
      "needs_background": "light"
     },
     "output_type": "display_data"
    }
   ],
   "source": [
    "plt.imshow(X_test[2][0].view(28, 28))"
   ]
  },
  {
   "cell_type": "code",
   "execution_count": null,
   "metadata": {},
   "outputs": [],
   "source": []
  }
 ],
 "metadata": {
  "kernelspec": {
   "display_name": "Python 3",
   "language": "python",
   "name": "python3"
  },
  "language_info": {
   "codemirror_mode": {
    "name": "ipython",
    "version": 3
   },
   "file_extension": ".py",
   "mimetype": "text/x-python",
   "name": "python",
   "nbconvert_exporter": "python",
   "pygments_lexer": "ipython3",
   "version": "3.7.6"
  }
 },
 "nbformat": 4,
 "nbformat_minor": 4
}
