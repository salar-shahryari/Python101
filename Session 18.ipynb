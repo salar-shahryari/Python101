{
 "cells": [
  {
   "cell_type": "code",
   "execution_count": 1,
   "metadata": {},
   "outputs": [],
   "source": [
    "import numpy as np\n",
    "import pandas as pd"
   ]
  },
  {
   "cell_type": "code",
   "execution_count": 2,
   "metadata": {},
   "outputs": [],
   "source": [
    "import sqlite3"
   ]
  },
  {
   "cell_type": "code",
   "execution_count": 3,
   "metadata": {},
   "outputs": [],
   "source": [
    "conn = sqlite3.connect(':memory:')"
   ]
  },
  {
   "cell_type": "code",
   "execution_count": 4,
   "metadata": {},
   "outputs": [],
   "source": [
    "c = conn.cursor()"
   ]
  },
  {
   "cell_type": "code",
   "execution_count": 5,
   "metadata": {},
   "outputs": [],
   "source": [
    "c.execute(\"\"\"CREATE TABLE employees(first text,\n",
    "                                    last text,\n",
    "                                    pay integer)\"\"\")\n",
    "conn.commit()"
   ]
  },
  {
   "cell_type": "code",
   "execution_count": 6,
   "metadata": {},
   "outputs": [],
   "source": [
    "conn = sqlite3.connect('employee.db')\n",
    "c = conn.cursor()"
   ]
  },
  {
   "cell_type": "code",
   "execution_count": 7,
   "metadata": {},
   "outputs": [],
   "source": [
    "c.execute(\"\"\"INSERT INTO employees VALUES('Salar', 'Shahryari', '100000')\"\"\")\n",
    "conn.commit()"
   ]
  },
  {
   "cell_type": "code",
   "execution_count": 8,
   "metadata": {},
   "outputs": [],
   "source": [
    "c.execute(\"\"\"SELECT * FROM employees\"\"\")\n",
    "conn.commit()"
   ]
  },
  {
   "cell_type": "code",
   "execution_count": 9,
   "metadata": {},
   "outputs": [],
   "source": [
    "# c.fetchone() -> 1 per fetch\n",
    "# c.fetchmany(5) -> 5 rows per fetch\n",
    "# c.fetchall() -> return all the results"
   ]
  },
  {
   "cell_type": "code",
   "execution_count": 10,
   "metadata": {},
   "outputs": [
    {
     "data": {
      "text/plain": [
       "('Salar', 'Shahryari', 100000)"
      ]
     },
     "execution_count": 10,
     "metadata": {},
     "output_type": "execute_result"
    }
   ],
   "source": [
    "c.fetchone()"
   ]
  },
  {
   "cell_type": "code",
   "execution_count": 11,
   "metadata": {},
   "outputs": [],
   "source": [
    "class Employee:\n",
    "    def __init__(self, first, last, pay):\n",
    "        self.first = first\n",
    "        self.last = last\n",
    "        self.pay = pay\n",
    "     \n",
    "    @property\n",
    "    def email(self):\n",
    "        return f\"{self.first}_{self.last}@email.com\"\n",
    "    \n",
    "    def full_name(self):\n",
    "        return f\"{self.first} {self.last}\"\n",
    "    \n",
    "    def __repr__(self):\n",
    "        return f\"Employee('{self.first}, {self.last}, {self.pay}')\""
   ]
  },
  {
   "cell_type": "code",
   "execution_count": 12,
   "metadata": {},
   "outputs": [],
   "source": [
    "emp1 = Employee('Salar', 'Shahryari', 100000)\n",
    "emp2 = Employee('Kaveh', 'Behruz', 101000)\n",
    "emp3 = Employee('Bahareh', 'PurBagher', 90000)\n",
    "emp4 = Employee('Vahid', 'Esmaili', 80000)"
   ]
  },
  {
   "cell_type": "code",
   "execution_count": 13,
   "metadata": {},
   "outputs": [],
   "source": [
    "c.execute(\"INSERT INTO employees VALUES(?, ?, ?)\", (emp2.first, emp2.last, emp2.pay))\n",
    "conn.commit()"
   ]
  },
  {
   "cell_type": "code",
   "execution_count": 14,
   "metadata": {},
   "outputs": [],
   "source": [
    "c.execute(\"\"\"SELECT * FROM employees\"\"\")\n",
    "conn.commit()"
   ]
  },
  {
   "cell_type": "code",
   "execution_count": 15,
   "metadata": {},
   "outputs": [
    {
     "data": {
      "text/plain": [
       "[('Salar', 'Shahryari', 100000),\n",
       " ('Kaveh', 'Behruz', 95000),\n",
       " ('Kaveh', 'Behruz', 95000),\n",
       " ('Bahareh', 'PurBagher', 90000),\n",
       " ('Vahid', 'Esmaili', 80000),\n",
       " ('Vahid', 'Esmaili', 80000),\n",
       " ('Vahid', 'Esmaili', 80000),\n",
       " ('Salar', 'Shahryari', 100000),\n",
       " ('Kaveh', 'Behruz', 101000)]"
      ]
     },
     "execution_count": 15,
     "metadata": {},
     "output_type": "execute_result"
    }
   ],
   "source": [
    "c.fetchall()"
   ]
  },
  {
   "cell_type": "code",
   "execution_count": 16,
   "metadata": {},
   "outputs": [],
   "source": [
    "c.execute(\"INSERT INTO employees VALUES(:first, :last, :pay)\",\n",
    "          {'first': emp4.first, 'last': emp4.last, 'pay':emp4.pay})\n",
    "conn.commit()"
   ]
  },
  {
   "cell_type": "code",
   "execution_count": 17,
   "metadata": {},
   "outputs": [],
   "source": [
    "c.execute(\"\"\"SELECT * FROM employees\"\"\")\n",
    "conn.commit()"
   ]
  },
  {
   "cell_type": "code",
   "execution_count": 18,
   "metadata": {},
   "outputs": [
    {
     "data": {
      "text/plain": [
       "[('Salar', 'Shahryari', 100000),\n",
       " ('Kaveh', 'Behruz', 95000),\n",
       " ('Kaveh', 'Behruz', 95000),\n",
       " ('Bahareh', 'PurBagher', 90000),\n",
       " ('Vahid', 'Esmaili', 80000),\n",
       " ('Vahid', 'Esmaili', 80000),\n",
       " ('Vahid', 'Esmaili', 80000),\n",
       " ('Salar', 'Shahryari', 100000),\n",
       " ('Kaveh', 'Behruz', 101000),\n",
       " ('Vahid', 'Esmaili', 80000)]"
      ]
     },
     "execution_count": 18,
     "metadata": {},
     "output_type": "execute_result"
    }
   ],
   "source": [
    "c.fetchall()"
   ]
  },
  {
   "cell_type": "code",
   "execution_count": 19,
   "metadata": {},
   "outputs": [],
   "source": [
    "def insert_emp(emp):\n",
    "    with conn:\n",
    "        c.execute(\"INSERT INTO employees VALUES(:first, :last, :pay)\",\n",
    "                  {'first': emp.first, 'last': emp.last, 'pay':emp.pay})"
   ]
  },
  {
   "cell_type": "code",
   "execution_count": 20,
   "metadata": {},
   "outputs": [],
   "source": [
    "insert_emp(emp4)"
   ]
  },
  {
   "cell_type": "code",
   "execution_count": 21,
   "metadata": {},
   "outputs": [],
   "source": [
    "c.execute(\"\"\"SELECT * FROM employees\"\"\")\n",
    "conn.commit()"
   ]
  },
  {
   "cell_type": "code",
   "execution_count": 22,
   "metadata": {},
   "outputs": [
    {
     "data": {
      "text/plain": [
       "[('Salar', 'Shahryari', 100000),\n",
       " ('Kaveh', 'Behruz', 95000),\n",
       " ('Kaveh', 'Behruz', 95000),\n",
       " ('Bahareh', 'PurBagher', 90000),\n",
       " ('Vahid', 'Esmaili', 80000),\n",
       " ('Vahid', 'Esmaili', 80000),\n",
       " ('Vahid', 'Esmaili', 80000),\n",
       " ('Salar', 'Shahryari', 100000),\n",
       " ('Kaveh', 'Behruz', 101000),\n",
       " ('Vahid', 'Esmaili', 80000),\n",
       " ('Vahid', 'Esmaili', 80000)]"
      ]
     },
     "execution_count": 22,
     "metadata": {},
     "output_type": "execute_result"
    }
   ],
   "source": [
    "c.fetchall()"
   ]
  },
  {
   "cell_type": "code",
   "execution_count": 23,
   "metadata": {},
   "outputs": [
    {
     "data": {
      "text/plain": [
       "[('Salar', 'Shahryari', 100000),\n",
       " ('Kaveh', 'Behruz', 95000),\n",
       " ('Kaveh', 'Behruz', 95000),\n",
       " ('Bahareh', 'PurBagher', 90000),\n",
       " ('Vahid', 'Esmaili', 80000),\n",
       " ('Vahid', 'Esmaili', 80000),\n",
       " ('Vahid', 'Esmaili', 80000),\n",
       " ('Salar', 'Shahryari', 100000),\n",
       " ('Kaveh', 'Behruz', 101000),\n",
       " ('Vahid', 'Esmaili', 80000),\n",
       " ('Vahid', 'Esmaili', 80000),\n",
       " ('Vahid', 'Esmaili', 80000)]"
      ]
     },
     "execution_count": 23,
     "metadata": {},
     "output_type": "execute_result"
    }
   ],
   "source": [
    "insert_emp(emp4)\n",
    "c.execute(\"\"\"SELECT * FROM employees\"\"\")\n",
    "conn.commit()\n",
    "c.fetchall()"
   ]
  },
  {
   "cell_type": "code",
   "execution_count": 24,
   "metadata": {},
   "outputs": [],
   "source": [
    "def get_employee_by_last_name(last_name):\n",
    "    c.execute(\"\"\"SELECT * FROM employees WHERE last=:last\"\"\",\n",
    "              {'last': last_name})\n",
    "    return  c.fetchall()\n"
   ]
  },
  {
   "cell_type": "code",
   "execution_count": 25,
   "metadata": {},
   "outputs": [],
   "source": [
    "def update_pay(emp, pay):\n",
    "    with conn:\n",
    "        c.execute(\"\"\"UPDATE employees SET pay = :pay\n",
    "        WHERE first = :first AND last = :last\"\"\",\n",
    "                 {'first': emp.first, 'last':emp.last, 'pay': pay})"
   ]
  },
  {
   "cell_type": "code",
   "execution_count": 26,
   "metadata": {},
   "outputs": [
    {
     "data": {
      "text/plain": [
       "Employee('Kaveh, Behruz, 101000')"
      ]
     },
     "execution_count": 26,
     "metadata": {},
     "output_type": "execute_result"
    }
   ],
   "source": [
    "emp2"
   ]
  },
  {
   "cell_type": "code",
   "execution_count": 27,
   "metadata": {},
   "outputs": [],
   "source": [
    "update_pay(emp2, 95000)"
   ]
  },
  {
   "cell_type": "code",
   "execution_count": 28,
   "metadata": {},
   "outputs": [
    {
     "data": {
      "text/plain": [
       "[('Kaveh', 'Behruz', 95000),\n",
       " ('Kaveh', 'Behruz', 95000),\n",
       " ('Kaveh', 'Behruz', 95000)]"
      ]
     },
     "execution_count": 28,
     "metadata": {},
     "output_type": "execute_result"
    }
   ],
   "source": [
    "get_employee_by_last_name(emp2.last)"
   ]
  },
  {
   "cell_type": "code",
   "execution_count": 29,
   "metadata": {},
   "outputs": [],
   "source": [
    "import json\n",
    "from pathlib import Path"
   ]
  },
  {
   "cell_type": "code",
   "execution_count": 30,
   "metadata": {},
   "outputs": [],
   "source": [
    "movies = json.loads(Path('my_movies.json').read_text())"
   ]
  },
  {
   "cell_type": "code",
   "execution_count": 34,
   "metadata": {},
   "outputs": [],
   "source": [
    "movies = movies['movies']"
   ]
  },
  {
   "cell_type": "code",
   "execution_count": 35,
   "metadata": {},
   "outputs": [
    {
     "data": {
      "text/plain": [
       "[{'title': 'Tenet', 'Director': 'Nolan', 'Year': 2021},\n",
       " {'title': 'Matrix', 'Director': 'Lana Wachowski', 'Year': 1999},\n",
       " {'title': 'Pulp Fiction', 'Director': 'Tarantino', 'Year': 1994},\n",
       " {'title': 'La La Land', 'Director': 'Damien Chazelle', 'Year': 2018}]"
      ]
     },
     "execution_count": 35,
     "metadata": {},
     "output_type": "execute_result"
    }
   ],
   "source": [
    "movies"
   ]
  },
  {
   "cell_type": "code",
   "execution_count": 36,
   "metadata": {},
   "outputs": [],
   "source": [
    "conn = sqlite3.connect(':memory:')"
   ]
  },
  {
   "cell_type": "code",
   "execution_count": 37,
   "metadata": {},
   "outputs": [],
   "source": [
    "c = conn.cursor()\n",
    "command = \"\"\"CREATE TABLE Movies(title text, director text, year integer)\"\"\"\n",
    "c.execute(command)\n",
    "conn.commit()"
   ]
  },
  {
   "cell_type": "code",
   "execution_count": 39,
   "metadata": {},
   "outputs": [],
   "source": [
    "command = \"\"\"INSERT INTO Movies VALUES(:title, :Director, :Year)\"\"\"\n",
    "for m in movies:\n",
    "    conn.execute(command, m)\n",
    "conn.commit()"
   ]
  },
  {
   "cell_type": "code",
   "execution_count": 40,
   "metadata": {},
   "outputs": [
    {
     "data": {
      "text/plain": [
       "[('Tenet', 'Nolan', 2021),\n",
       " ('Matrix', 'Lana Wachowski', 1999),\n",
       " ('Pulp Fiction', 'Tarantino', 1994),\n",
       " ('La La Land', 'Damien Chazelle', 2018)]"
      ]
     },
     "execution_count": 40,
     "metadata": {},
     "output_type": "execute_result"
    }
   ],
   "source": [
    "command = \"\"\"SELECT * FROM Movies\"\"\"\n",
    "list(conn.execute(command))"
   ]
  },
  {
   "cell_type": "markdown",
   "metadata": {},
   "source": [
    "# PANDAS EXERCISE"
   ]
  },
  {
   "cell_type": "code",
   "execution_count": 41,
   "metadata": {},
   "outputs": [],
   "source": [
    "hotels = pd.read_csv(r\"Data\\Pandas Attachment\\hotel_booking_data.csv\")"
   ]
  },
  {
   "cell_type": "code",
   "execution_count": 42,
   "metadata": {},
   "outputs": [
    {
     "name": "stdout",
     "output_type": "stream",
     "text": [
      "<class 'pandas.core.frame.DataFrame'>\n",
      "RangeIndex: 119390 entries, 0 to 119389\n",
      "Data columns (total 36 columns):\n",
      " #   Column                          Non-Null Count   Dtype  \n",
      "---  ------                          --------------   -----  \n",
      " 0   hotel                           119390 non-null  object \n",
      " 1   is_canceled                     119390 non-null  int64  \n",
      " 2   lead_time                       119390 non-null  int64  \n",
      " 3   arrival_date_year               119390 non-null  int64  \n",
      " 4   arrival_date_month              119390 non-null  object \n",
      " 5   arrival_date_week_number        119390 non-null  int64  \n",
      " 6   arrival_date_day_of_month       119390 non-null  int64  \n",
      " 7   stays_in_weekend_nights         119390 non-null  int64  \n",
      " 8   stays_in_week_nights            119390 non-null  int64  \n",
      " 9   adults                          119390 non-null  int64  \n",
      " 10  children                        119386 non-null  float64\n",
      " 11  babies                          119390 non-null  int64  \n",
      " 12  meal                            119390 non-null  object \n",
      " 13  country                         118902 non-null  object \n",
      " 14  market_segment                  119390 non-null  object \n",
      " 15  distribution_channel            119390 non-null  object \n",
      " 16  is_repeated_guest               119390 non-null  int64  \n",
      " 17  previous_cancellations          119390 non-null  int64  \n",
      " 18  previous_bookings_not_canceled  119390 non-null  int64  \n",
      " 19  reserved_room_type              119390 non-null  object \n",
      " 20  assigned_room_type              119390 non-null  object \n",
      " 21  booking_changes                 119390 non-null  int64  \n",
      " 22  deposit_type                    119390 non-null  object \n",
      " 23  agent                           103050 non-null  float64\n",
      " 24  company                         6797 non-null    float64\n",
      " 25  days_in_waiting_list            119390 non-null  int64  \n",
      " 26  customer_type                   119390 non-null  object \n",
      " 27  adr                             119390 non-null  float64\n",
      " 28  required_car_parking_spaces     119390 non-null  int64  \n",
      " 29  total_of_special_requests       119390 non-null  int64  \n",
      " 30  reservation_status              119390 non-null  object \n",
      " 31  reservation_status_date         119390 non-null  object \n",
      " 32  name                            119390 non-null  object \n",
      " 33  email                           119390 non-null  object \n",
      " 34  phone-number                    119390 non-null  object \n",
      " 35  credit_card                     119390 non-null  object \n",
      "dtypes: float64(4), int64(16), object(16)\n",
      "memory usage: 32.8+ MB\n"
     ]
    }
   ],
   "source": [
    "hotels.info()"
   ]
  },
  {
   "cell_type": "code",
   "execution_count": 43,
   "metadata": {},
   "outputs": [
    {
     "data": {
      "text/plain": [
       "119390"
      ]
     },
     "execution_count": 43,
     "metadata": {},
     "output_type": "execute_result"
    }
   ],
   "source": [
    "len(hotels)"
   ]
  },
  {
   "cell_type": "code",
   "execution_count": 50,
   "metadata": {},
   "outputs": [
    {
     "data": {
      "text/plain": [
       "112593"
      ]
     },
     "execution_count": 50,
     "metadata": {},
     "output_type": "execute_result"
    }
   ],
   "source": [
    "hotels.isnull().sum().idxmax()\n",
    "hotels.isnull().sum().max()"
   ]
  },
  {
   "cell_type": "code",
   "execution_count": 51,
   "metadata": {},
   "outputs": [
    {
     "name": "stdout",
     "output_type": "stream",
     "text": [
      "company Column has the most null values with: 112593 nulls\n"
     ]
    }
   ],
   "source": [
    "print(f\"{hotels.isnull().sum().idxmax()} Column has the most null values with: {hotels.isnull().sum().max()} nulls\")"
   ]
  },
  {
   "cell_type": "code",
   "execution_count": 52,
   "metadata": {},
   "outputs": [
    {
     "data": {
      "text/plain": [
       "'company'"
      ]
     },
     "execution_count": 52,
     "metadata": {},
     "output_type": "execute_result"
    }
   ],
   "source": [
    "hotels.isnull().sum().idxmax()"
   ]
  },
  {
   "cell_type": "code",
   "execution_count": 54,
   "metadata": {},
   "outputs": [],
   "source": [
    "hotels = hotels.drop(hotels.isnull().sum().idxmax(), axis=1)"
   ]
  },
  {
   "cell_type": "code",
   "execution_count": 56,
   "metadata": {},
   "outputs": [
    {
     "data": {
      "text/plain": [
       "0         PRT\n",
       "1         PRT\n",
       "2         GBR\n",
       "3         GBR\n",
       "4         GBR\n",
       "         ... \n",
       "119385    BEL\n",
       "119386    FRA\n",
       "119387    DEU\n",
       "119388    GBR\n",
       "119389    DEU\n",
       "Name: country, Length: 119390, dtype: object"
      ]
     },
     "execution_count": 56,
     "metadata": {},
     "output_type": "execute_result"
    }
   ],
   "source": [
    "hotels['country']"
   ]
  },
  {
   "cell_type": "code",
   "execution_count": 59,
   "metadata": {},
   "outputs": [
    {
     "data": {
      "text/plain": [
       "PRT    48590\n",
       "GBR    12129\n",
       "FRA    10415\n",
       "ESP     8568\n",
       "DEU     7287\n",
       "Name: country, dtype: int64"
      ]
     },
     "execution_count": 59,
     "metadata": {},
     "output_type": "execute_result"
    }
   ],
   "source": [
    "hotels['country'].value_counts()[:5]"
   ]
  },
  {
   "cell_type": "code",
   "execution_count": 67,
   "metadata": {},
   "outputs": [
    {
     "data": {
      "text/plain": [
       "0.9275986263506156"
      ]
     },
     "execution_count": 67,
     "metadata": {},
     "output_type": "execute_result"
    }
   ],
   "source": [
    "hotels['stays_in_weekend_nights'].mean()"
   ]
  },
  {
   "cell_type": "code",
   "execution_count": 68,
   "metadata": {},
   "outputs": [],
   "source": [
    "import tkinter"
   ]
  },
  {
   "cell_type": "code",
   "execution_count": 69,
   "metadata": {},
   "outputs": [],
   "source": [
    "tkinter._test()"
   ]
  },
  {
   "cell_type": "code",
   "execution_count": 70,
   "metadata": {},
   "outputs": [],
   "source": [
    "from tkinter import *"
   ]
  },
  {
   "cell_type": "code",
   "execution_count": 78,
   "metadata": {},
   "outputs": [],
   "source": [
    "from tkinter import ttk"
   ]
  },
  {
   "cell_type": "code",
   "execution_count": 71,
   "metadata": {},
   "outputs": [],
   "source": [
    "root = Tk()"
   ]
  },
  {
   "cell_type": "code",
   "execution_count": 72,
   "metadata": {},
   "outputs": [],
   "source": [
    "Label(root, text=\"Hello, tkinter!\").pack()"
   ]
  },
  {
   "cell_type": "code",
   "execution_count": 73,
   "metadata": {},
   "outputs": [],
   "source": [
    "root.mainloop()"
   ]
  },
  {
   "cell_type": "code",
   "execution_count": 74,
   "metadata": {},
   "outputs": [],
   "source": [
    "# >>> from tkinter import *\n",
    "# >>> from tkinter import ttk\n",
    "# >>> root = Tk()\n",
    "# >>> button = ttk.Button(root, text='Click ME')\n",
    "# >>> button.pack()\n",
    "# >>> button['text']=\"Press Me!\"\n",
    "# >>> button.config(text='Push Me')\n",
    "# >>> button.config()"
   ]
  },
  {
   "cell_type": "code",
   "execution_count": 82,
   "metadata": {},
   "outputs": [],
   "source": [
    "class HelloApp:\n",
    "    def __init__(self, master):\n",
    "        self.label = ttk.Label(master, text='Hello, tkinter!')\n",
    "        self.label.grid(row=0, column=0, columnspan=2)\n",
    "        ttk.Button(master, text=\"Texas\", command=self.texas_hello).grid(row=1, column=0)\n",
    "        ttk.Button(master, text=\"Hawaii\", command=self.hawaii_hello).grid(row=1, column=1)\n",
    "        \n",
    "    def texas_hello(self):\n",
    "        self.label.config(text=\"I am in Texas\")\n",
    "        \n",
    "        \n",
    "    def hawaii_hello(self):\n",
    "        self.label.config(text=\"I am in Hawaii\")"
   ]
  },
  {
   "cell_type": "code",
   "execution_count": 83,
   "metadata": {},
   "outputs": [],
   "source": [
    "def main():\n",
    "    root = Tk()\n",
    "    app = HelloApp(root)\n",
    "    root.mainloop()"
   ]
  },
  {
   "cell_type": "code",
   "execution_count": 84,
   "metadata": {},
   "outputs": [],
   "source": [
    "main()"
   ]
  },
  {
   "cell_type": "code",
   "execution_count": 86,
   "metadata": {},
   "outputs": [],
   "source": [
    "# >>> from tkinter import *\n",
    "# >>> from tkinter import ttk\n",
    "# >>> root = Tk()\n",
    "# >>> label = ttk.Label(root, text=\"Hello, tkinter!\")\n",
    "# >>> label.pack()\n",
    "# >>> label.config(text=\"Hi, tkinter!\")\n",
    "# >>> label.config(text=\"Python is an interpreted high-level general-purpose programming language. Its design philosophy emphasizes code readability with its use of significant indentation. Its language constructs as well as its object-oriented approach aim to help programmers write clear, logical code for small and large-scale projects.\")\n",
    "# >>> label.congif(wraplength=15)\n",
    "# >>> label.config(wraplength=15)\n",
    "# >>> label.config(wraplength=100)\n",
    "# >>> label.config(wraplength=200)\n",
    "# >>> label.config(foreground=\"blue\")\n",
    "# >>> label.config(background=\"#FFFF00\")\n",
    "# >>> label.config(font=('Arial', 20, 'bold'))\n",
    "# >>> label.config(text=\"Hi, tkinter!\")\n",
    "# >>> logo = PhotoImage(file=r\"...\")\n",
    "# >>> label.config(image=logo)\n",
    "# >>> label.cofig(compound='text')\n",
    "# >>> label.config(compound='text')\n",
    "# >>> label.config(compound='image')\n",
    "# >>> label.config(compound='center')\n",
    "# >>> label.config(compound='left')\n",
    "# >>> label.img = logo\n",
    "# >>> label.config(image=label.img)"
   ]
  },
  {
   "cell_type": "code",
   "execution_count": 87,
   "metadata": {},
   "outputs": [],
   "source": [
    "# from tkinter import *\n",
    "# >>> from tkinter import ttk\n",
    "# >>> root = Tk()\n",
    "# >>> button = ttk.Button(root, text=\"Click Me\")\n",
    "# >>> button.pack()\n",
    "# >>> def callback():\n",
    "# \tprint(\"Clicked!\")\n",
    "\n",
    "# >>> button.config(command=callback)\n",
    "\n",
    "# >>> button.invoke()\n",
    "# Clicked!\n",
    "# 'None'\n",
    "# >>> button.state(['disabled'])\n",
    "# ('!disabled',)\n",
    "# >>> button.state(['!disabled'])\n",
    "# ('disabled',)\n",
    "# >>> logo = PhotoImage(file=r\"...\")\n",
    "# >>> button.config(image=logo, compound=LEFT)\n",
    "# >>> small_logo = logo.subsample(5, 5)\n",
    "# >>> button.config(image=small_logo)"
   ]
  },
  {
   "cell_type": "markdown",
   "metadata": {},
   "source": [
    "https://tcl.tk/man/tcl/TkCmd/ttk_widget.htm#M22"
   ]
  },
  {
   "cell_type": "code",
   "execution_count": 88,
   "metadata": {},
   "outputs": [],
   "source": [
    "# > from tkinter import *\n",
    "# >>> from tkinter import ttk\n",
    "# >>> root = Tk()\n",
    "# >>> checkbutton = ttk.Checkbutton(root, text=\"SPAM?\")\n",
    "# >>> checkbutton.pack()\n",
    "# >>> spam = StringVar()\n",
    "# >>> spam.set(\"spam!\")\n",
    "# >>> spam.get()\n",
    "# 'spam!'\n",
    "# >>> checkbutton.config(variable=spam, onvalue='YES', offvalue='No')\n",
    "# >>> spam.get()\n",
    "# 'YES'\n",
    "# >>> spam.get()\n",
    "# 'No'\n",
    "# >>> breakfast = StringVar()\n",
    "# >>> ttk.Radiobutton(root, text='SPAM', variable= breakfast, value='SPAM').pack()\n",
    "# >>> ttk.Radiobutton(root, text='Eggs', variable= breakfast, value='Eggs').pack()\n",
    "# >>> ttk.Radiobutton(root, text='Bread', variable= breakfast, value='Bread').pack()\n",
    "# >>> breakfast.get()\n",
    "# 'Bread'\n",
    "# >>> breakfast.get()\n",
    "# 'Eggs'\n",
    "# >>> checkbutton.config(textvariable=breakfast)\n",
    "# >>> "
   ]
  },
  {
   "cell_type": "code",
   "execution_count": 89,
   "metadata": {},
   "outputs": [],
   "source": [
    "# >>> from tkinter import *\n",
    "# >>> from tkinter import ttk\n",
    "# >>> root = Tk()\n",
    "# >>> entry = ttk.Entry(root, width=30)\n",
    "# >>> entry.pack()\n",
    "# >>> entry.get()\n",
    "# 'Python Bootcamp'\n",
    "# >>> entry.delete(0, 1)\n",
    "# >>> entry.delete(0, END)\n",
    "# >>> entry.insert(0, 'Enter your Password!')\n",
    "# >>> entry.config(show='*')\n",
    "# >>> entry.get()\n",
    "# 'MyPassword'\n",
    "# >>> entry.state(['disabled'])\n",
    "# ('!disabled',)\n",
    "# >>> entry.state(['!disabled'])\n",
    "# ('disabled',)\n",
    "# >>> entry.state(['readonly'])\n",
    "# ('!readonly',)"
   ]
  },
  {
   "cell_type": "code",
   "execution_count": 90,
   "metadata": {},
   "outputs": [],
   "source": [
    "# from tkinter import *\n",
    "# >>> from tkinter import ttk\n",
    "# >>> root = Tk()\n",
    "# >>> month = StringVar()\n",
    "# >>> combobox = ttk.Combobox(root, textvariable=month)\n",
    "# >>> combobox.pack()\n",
    "# >>> combobox.config(values=('Jan', 'Feb', 'Mar', 'Apr', 'May', 'Jun', 'Jul', 'Aug'))\n",
    "# >>> combobox.get()\n",
    "# 'Jan'\n",
    "# >>> combobox.set('Dec')"
   ]
  },
  {
   "cell_type": "code",
   "execution_count": 91,
   "metadata": {},
   "outputs": [],
   "source": [
    "# >>> from tkinter import *\n",
    "# >>> from tkinter import ttk\n",
    "# >>> root = Tk()\n",
    "# >>> progressbar = ttk.Progressbar(root, orient=HORIZONTAL, length=200)\n",
    "# >>> progressbar.pack()\n",
    "# >>> progressbar.config(mode='indeterminate')\n",
    "# >>> progressbar.start()\n",
    "# >>> progressbar.stop()\n",
    "# >>> progressbar.config(mode='determinate', maximum=100, value=30)\n",
    "# >>> progressbar.config(value=50)\n",
    "# >>> progressbar.step()\n",
    "# >>> progressbar.step(20)\n",
    "# >>> progressbar.step(30)\n",
    "# >>> value = DoubleVar()\n",
    "# >>> progressbar.config(variable=value)\n",
    "# >>> scale = ttk.Scale(root, orient=HORIZONTAL, length=400, variable=value, from_=0.0, to= 100.0)\n",
    "# >>> scale.pack()"
   ]
  },
  {
   "cell_type": "code",
   "execution_count": 92,
   "metadata": {},
   "outputs": [],
   "source": [
    "# >>> from tkinter import *\n",
    "# >>> from tkinter import ttk\n",
    "# >>> root = Tk()\n",
    "# >>> frame = ttk.Frame(root)\n",
    "# >>> frame.pack()\n",
    "# >>> frame.config(height=100, width=100)\n",
    "# >>> frame.config(relief=RIDGE)\n",
    "# >>> frame.config(relief=FLAT)\n",
    "# >>> frame.config(relief=SOLID)\n",
    "# >>> ttk.Button(frame, text=\"Click Me\").unpack()\n",
    "# >>> ttk.Button(frame, text=\"Click Me\").pack()\n",
    "# >>> frame.config(relief=RIDGE)\n",
    "# >>> frame.config(padding=(30, 10))\n",
    "# >>> ttk.LabelFrame(root, height=100, width=200, text=\"My Label Frame\").pack()"
   ]
  },
  {
   "cell_type": "code",
   "execution_count": null,
   "metadata": {},
   "outputs": [],
   "source": []
  }
 ],
 "metadata": {
  "kernelspec": {
   "display_name": "Python 3",
   "language": "python",
   "name": "python3"
  },
  "language_info": {
   "codemirror_mode": {
    "name": "ipython",
    "version": 3
   },
   "file_extension": ".py",
   "mimetype": "text/x-python",
   "name": "python",
   "nbconvert_exporter": "python",
   "pygments_lexer": "ipython3",
   "version": "3.7.6"
  }
 },
 "nbformat": 4,
 "nbformat_minor": 4
}
